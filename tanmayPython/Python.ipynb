{
 "cells": [
  {
   "cell_type": "markdown",
   "id": "e2781e17-0ad9-439b-abc1-3076885274ff",
   "metadata": {},
   "source": [
    "# __Python__"
   ]
  },
  {
   "cell_type": "markdown",
   "id": "69dde0d9-192f-4733-8dcc-236f9fab07ce",
   "metadata": {},
   "source": [
    "## Basics"
   ]
  },
  {
   "cell_type": "markdown",
   "id": "405fb3df-c151-4861-b970-1410b454ea23",
   "metadata": {
    "jp-MarkdownHeadingCollapsed": true
   },
   "source": [
    "### _Variables and Data-types_"
   ]
  },
  {
   "cell_type": "markdown",
   "id": "0fdf2647-c7e6-48bd-9c4a-05fe148278f3",
   "metadata": {},
   "source": [
    "- Sum of two numbers"
   ]
  },
  {
   "cell_type": "code",
   "execution_count": 1,
   "id": "ad9aeac0-ff9f-4edf-bd73-49019ea1632f",
   "metadata": {},
   "outputs": [
    {
     "name": "stdout",
     "output_type": "stream",
     "text": [
      "12 + 13 = 25\n"
     ]
    }
   ],
   "source": [
    "num1 = int(input(\"enter num 1 :\"))\n",
    "num2 = int(input(\"enter num 2 :\"))\n",
    "print(num1, \"+\", num2, \"=\", num1 + num2)"
   ]
  },
  {
   "cell_type": "markdown",
   "id": "83f1c746-7921-4b5f-857e-12e8226af6c1",
   "metadata": {},
   "source": [
    "- Area of Square"
   ]
  },
  {
   "cell_type": "code",
   "execution_count": 2,
   "id": "63d0d835-a562-43dc-acf0-f0aeafc031f5",
   "metadata": {},
   "outputs": [
    {
     "name": "stdout",
     "output_type": "stream",
     "text": [
      "Area : 625\n"
     ]
    }
   ],
   "source": [
    "side = int(input(\"enter side of square :\"))\n",
    "print(\"Area :\", side**2)"
   ]
  },
  {
   "cell_type": "markdown",
   "id": "ec450d53-1f4a-4703-b960-7daf056ed100",
   "metadata": {},
   "source": [
    "- Average of two numbers"
   ]
  },
  {
   "cell_type": "code",
   "execution_count": 3,
   "id": "9fa6f064-402c-4e05-a4f6-9bdd0596aa81",
   "metadata": {},
   "outputs": [
    {
     "name": "stdout",
     "output_type": "stream",
     "text": [
      "Avg : 10.0\n"
     ]
    }
   ],
   "source": [
    "num1 = float(input(\"enter float 1\"))\n",
    "num2 = float(input(\"enter float 2\"))\n",
    "print(\"Avg :\", (num1 + num2) / 2)"
   ]
  },
  {
   "cell_type": "markdown",
   "id": "3d57c6be-8081-4ff9-a146-f883ebdff01d",
   "metadata": {},
   "source": [
    "- a >= b"
   ]
  },
  {
   "cell_type": "code",
   "execution_count": 4,
   "id": "72534afe-6c2b-47b8-bc65-5b45eb9563b8",
   "metadata": {},
   "outputs": [
    {
     "name": "stdout",
     "output_type": "stream",
     "text": [
      "False\n"
     ]
    }
   ],
   "source": [
    "a = int(input(\"enter a :\"))\n",
    "b = int(input(\"enter b :\"))\n",
    "print(a >= b)"
   ]
  },
  {
   "cell_type": "markdown",
   "id": "76d39587-e95d-49ae-b88b-4b4ac1b8fc7f",
   "metadata": {
    "jp-MarkdownHeadingCollapsed": true
   },
   "source": [
    "### _Strings_"
   ]
  },
  {
   "cell_type": "code",
   "execution_count": 5,
   "id": "53d4705f",
   "metadata": {},
   "outputs": [],
   "source": [
    "name = input(\"enter your name :\")"
   ]
  }
 ],
 "metadata": {
  "kernelspec": {
   "display_name": "Python 3",
   "language": "python",
   "name": "python3"
  },
  "language_info": {
   "codemirror_mode": {
    "name": "ipython",
    "version": 3
   },
   "file_extension": ".py",
   "mimetype": "text/x-python",
   "name": "python",
   "nbconvert_exporter": "python",
   "pygments_lexer": "ipython3",
   "version": "3.13.1"
  }
 },
 "nbformat": 4,
 "nbformat_minor": 5
}
