{
 "cells": [
  {
   "cell_type": "markdown",
   "id": "e2781e17-0ad9-439b-abc1-3076885274ff",
   "metadata": {},
   "source": [
    "# __Python__"
   ]
  },
  {
   "cell_type": "markdown",
   "id": "69dde0d9-192f-4733-8dcc-236f9fab07ce",
   "metadata": {},
   "source": [
    "## Basics"
   ]
  },
  {
   "cell_type": "markdown",
   "id": "405fb3df-c151-4861-b970-1410b454ea23",
   "metadata": {
    "jp-MarkdownHeadingCollapsed": true
   },
   "source": [
    "### _Variables and Data-types_"
   ]
  },
  {
   "cell_type": "markdown",
   "id": "0fdf2647-c7e6-48bd-9c4a-05fe148278f3",
   "metadata": {},
   "source": [
    "- Sum of two numbers"
   ]
  },
  {
   "cell_type": "code",
   "execution_count": 1,
   "id": "ad9aeac0-ff9f-4edf-bd73-49019ea1632f",
   "metadata": {},
   "outputs": [
    {
     "name": "stdout",
     "output_type": "stream",
     "text": [
      "3 + 4 = 7\n"
     ]
    }
   ],
   "source": [
    "num1 = 3\n",
    "num2 = 4\n",
    "print(num1, \"+\", num2, \"=\", num1 + num2)"
   ]
  },
  {
   "cell_type": "markdown",
   "id": "83f1c746-7921-4b5f-857e-12e8226af6c1",
   "metadata": {},
   "source": [
    "- Area of Square"
   ]
  },
  {
   "cell_type": "code",
   "execution_count": 2,
   "id": "63d0d835-a562-43dc-acf0-f0aeafc031f5",
   "metadata": {},
   "outputs": [
    {
     "name": "stdout",
     "output_type": "stream",
     "text": [
      "Area : 49\n"
     ]
    }
   ],
   "source": [
    "num1 = 7\n",
    "print(\"Area :\", num1**2)"
   ]
  },
  {
   "cell_type": "markdown",
   "id": "ec450d53-1f4a-4703-b960-7daf056ed100",
   "metadata": {},
   "source": [
    "- Average of two numbers"
   ]
  },
  {
   "cell_type": "code",
   "execution_count": 3,
   "id": "9fa6f064-402c-4e05-a4f6-9bdd0596aa81",
   "metadata": {},
   "outputs": [
    {
     "name": "stdout",
     "output_type": "stream",
     "text": [
      "Avg : 4.37\n"
     ]
    }
   ],
   "source": [
    "num1 = 3.14\n",
    "num2 = 5.6\n",
    "print(\"Avg :\", (num1 + num2) / 2)"
   ]
  },
  {
   "cell_type": "markdown",
   "id": "3d57c6be-8081-4ff9-a146-f883ebdff01d",
   "metadata": {},
   "source": [
    "- a >= b"
   ]
  },
  {
   "cell_type": "code",
   "execution_count": 4,
   "id": "72534afe-6c2b-47b8-bc65-5b45eb9563b8",
   "metadata": {},
   "outputs": [
    {
     "name": "stdout",
     "output_type": "stream",
     "text": [
      "False\n"
     ]
    }
   ],
   "source": [
    "num1 = int(input(\"enter a :\"))\n",
    "num2 = int(input(\"enter b :\"))\n",
    "print(num1 >= num2)"
   ]
  },
  {
   "cell_type": "markdown",
   "id": "76d39587-e95d-49ae-b88b-4b4ac1b8fc7f",
   "metadata": {
    "jp-MarkdownHeadingCollapsed": true
   },
   "source": [
    "### _Strings_"
   ]
  },
  {
   "cell_type": "markdown",
   "id": "4355b378",
   "metadata": {},
   "source": [
    "- Enter name"
   ]
  },
  {
   "cell_type": "code",
   "execution_count": 5,
   "id": "53d4705f",
   "metadata": {},
   "outputs": [
    {
     "name": "stdout",
     "output_type": "stream",
     "text": [
      "tanmay\n"
     ]
    }
   ],
   "source": [
    "str1 = input(\"enter your name :\")\n",
    "print(str1)"
   ]
  },
  {
   "cell_type": "markdown",
   "id": "45f7a387",
   "metadata": {},
   "source": [
    "### _Conditionals_"
   ]
  },
  {
   "cell_type": "markdown",
   "id": "5b17edcc",
   "metadata": {},
   "source": [
    "- Odd or even"
   ]
  },
  {
   "cell_type": "code",
   "execution_count": 6,
   "id": "76c2f132",
   "metadata": {},
   "outputs": [
    {
     "name": "stdout",
     "output_type": "stream",
     "text": [
      "ODD\n"
     ]
    },
    {
     "data": {
      "text/plain": [
       "1"
      ]
     },
     "execution_count": 6,
     "metadata": {},
     "output_type": "execute_result"
    }
   ],
   "source": [
    "num1 = 7\n",
    "if (num1 % 2 == 0) :\n",
    "    print(\"EVEN\")\n",
    "else :\n",
    "    print(\"ODD\")\n",
    "1"
   ]
  },
  {
   "cell_type": "markdown",
   "id": "075ef589",
   "metadata": {},
   "source": [
    "- Greatest of three"
   ]
  },
  {
   "cell_type": "code",
   "execution_count": 7,
   "id": "474e6c15",
   "metadata": {},
   "outputs": [
    {
     "name": "stdout",
     "output_type": "stream",
     "text": [
      "7\n"
     ]
    }
   ],
   "source": [
    "num1 = 5\n",
    "num2 = 6\n",
    "num3 = 7\n",
    "if (num1 > num2):\n",
    "    if (num1 > num3):\n",
    "        print(num1)\n",
    "    else:\n",
    "        print(num3)\n",
    "else:\n",
    "    if (num2 > num3):\n",
    "        print(num2)\n",
    "    else:\n",
    "        print(num3)"
   ]
  },
  {
   "cell_type": "markdown",
   "id": "a2b3b686",
   "metadata": {},
   "source": [
    "- Divisible by 7"
   ]
  },
  {
   "cell_type": "code",
   "execution_count": 8,
   "id": "c115ef86",
   "metadata": {},
   "outputs": [
    {
     "name": "stdout",
     "output_type": "stream",
     "text": [
      "YES\n"
     ]
    }
   ],
   "source": [
    "num1 = 21\n",
    "if (num1 % 7 == 0):\n",
    "    print(\"YES\")\n",
    "else:\n",
    "    print(\"NO\")"
   ]
  },
  {
   "cell_type": "markdown",
   "id": "cf8551a8",
   "metadata": {},
   "source": [
    "### _Lists & Tuples_"
   ]
  },
  {
   "cell_type": "markdown",
   "id": "c42d9153",
   "metadata": {},
   "source": [
    "- Lists"
   ]
  },
  {
   "cell_type": "code",
   "execution_count": 9,
   "id": "25065739",
   "metadata": {},
   "outputs": [
    {
     "name": "stdout",
     "output_type": "stream",
     "text": [
      "<class 'list'>\n"
     ]
    }
   ],
   "source": [
    "l1 = []\n",
    "l1 += input(\"Enter a list\")\n",
    "print(list)"
   ]
  },
  {
   "cell_type": "markdown",
   "id": "56b1ad13",
   "metadata": {},
   "source": [
    "- List Slicing"
   ]
  },
  {
   "cell_type": "code",
   "execution_count": 10,
   "id": "c82e86d5",
   "metadata": {},
   "outputs": [
    {
     "name": "stdout",
     "output_type": "stream",
     "text": [
      "['h', 'f', 'd', 'i', 'u', 'w']\n"
     ]
    }
   ],
   "source": [
    "l2 = l1[0 : 6]\n",
    "print(l2)"
   ]
  },
  {
   "cell_type": "markdown",
   "id": "02dd4b4d",
   "metadata": {},
   "source": [
    "- Tuples"
   ]
  },
  {
   "cell_type": "code",
   "execution_count": 11,
   "id": "fcb46713",
   "metadata": {},
   "outputs": [
    {
     "name": "stdout",
     "output_type": "stream",
     "text": [
      "<class 'tuple'> (45,)\n"
     ]
    }
   ],
   "source": [
    "t1 = (int(input(\"enter a num\")),)\n",
    "print(type(t1), (t1) )"
   ]
  },
  {
   "cell_type": "markdown",
   "id": "42fb0fee",
   "metadata": {},
   "source": [
    "- Input in tuple"
   ]
  },
  {
   "cell_type": "code",
   "execution_count": 12,
   "id": "921bbb00",
   "metadata": {},
   "outputs": [
    {
     "name": "stdout",
     "output_type": "stream",
     "text": [
      "['Tenet', 'Intersteller', 'Tamasha']\n"
     ]
    }
   ],
   "source": [
    "favMovies = []\n",
    "favMovies.append(\"Tenet\")\n",
    "favMovies.append(\"Intersteller\")\n",
    "favMovies.append(\"Tamasha\")\n",
    "print(favMovies)"
   ]
  },
  {
   "cell_type": "markdown",
   "id": "f94fbfb0",
   "metadata": {},
   "source": [
    "- Palindrome or not"
   ]
  },
  {
   "cell_type": "code",
   "execution_count": 13,
   "id": "3e0e51b3",
   "metadata": {},
   "outputs": [
    {
     "name": "stdout",
     "output_type": "stream",
     "text": [
      "Is NOT Palindrome\n"
     ]
    }
   ],
   "source": [
    "l1 = []\n",
    "l1 += input(\"enter a list\")\n",
    "rev = l1.copy()\n",
    "rev.reverse()\n",
    "if(l1 == rev):\n",
    "    print(\"Is Palindrome\")\n",
    "else:\n",
    "    print(\"Is NOT Palindrome\")"
   ]
  },
  {
   "cell_type": "markdown",
   "id": "cb92fefc",
   "metadata": {},
   "source": [
    "- Count method"
   ]
  },
  {
   "cell_type": "code",
   "execution_count": 14,
   "id": "64a5a8a5",
   "metadata": {},
   "outputs": [
    {
     "name": "stdout",
     "output_type": "stream",
     "text": [
      "3\n"
     ]
    }
   ],
   "source": [
    "t1 = ('C', 'D', 'A', 'A', 'B', 'B', 'A')\n",
    "print(t1.count('A'))"
   ]
  },
  {
   "cell_type": "markdown",
   "id": "c4e892bf",
   "metadata": {},
   "source": [
    "- Sorting"
   ]
  },
  {
   "cell_type": "code",
   "execution_count": 15,
   "id": "1f50459b",
   "metadata": {},
   "outputs": [
    {
     "name": "stdout",
     "output_type": "stream",
     "text": [
      "['A', 'A', 'A', 'B', 'B', 'C', 'D']\n"
     ]
    }
   ],
   "source": [
    "l1 = list(t1)\n",
    "l1.sort()\n",
    "print(l1)"
   ]
  },
  {
   "cell_type": "markdown",
   "id": "18967466",
   "metadata": {},
   "source": [
    "### _Dictionaries & Sets_"
   ]
  },
  {
   "cell_type": "markdown",
   "id": "fc30be6f",
   "metadata": {},
   "source": [
    "- Dictionary eg."
   ]
  },
  {
   "cell_type": "code",
   "execution_count": 16,
   "id": "919eb6bf",
   "metadata": {},
   "outputs": [
    {
     "name": "stdout",
     "output_type": "stream",
     "text": [
      "{'table': ['a piece of furniture', 'list of facts and figures'], 'cat': 'a small animal'}\n",
      "[('table', ['a piece of furniture', 'list of facts and figures']), ('cat', 'a small animal')]\n"
     ]
    }
   ],
   "source": [
    "dict = {}\n",
    "dict.update({\n",
    "    \"table\" : [\"a piece of furniture\", \"list of facts and figures\"],\n",
    "    \"cat\" : \"a small animal\"\n",
    "})\n",
    "print(dict)\n",
    "print(list(dict.items()))"
   ]
  },
  {
   "cell_type": "markdown",
   "id": "1584843e",
   "metadata": {},
   "source": [
    "- Sets eg."
   ]
  },
  {
   "cell_type": "code",
   "execution_count": 17,
   "id": "87d39464",
   "metadata": {},
   "outputs": [
    {
     "name": "stdout",
     "output_type": "stream",
     "text": [
      "5\n"
     ]
    }
   ],
   "source": [
    "classes = {\"python\", \"java\", \"c++\", \"python\", \"javascript\", \"java\", \"python\", \"java\", \"c++\", \"c\"}\n",
    "print(len(classes))"
   ]
  },
  {
   "cell_type": "markdown",
   "id": "89efcc1c",
   "metadata": {},
   "source": [
    "- User input in dictionaries"
   ]
  },
  {
   "cell_type": "code",
   "execution_count": 18,
   "id": "752d6cc9",
   "metadata": {},
   "outputs": [
    {
     "name": "stdout",
     "output_type": "stream",
     "text": [
      "{'jhsdc': 63521, 'edyfgcu': 2131, 'cidsuc': 645}\n"
     ]
    }
   ],
   "source": [
    "subMarks = {}\n",
    "sub1 = input(\"Enter sub 1\")\n",
    "m1 = int(input(\"Enter marks in \" + sub1))\n",
    "sub2 = input(\"Enter sub 2\")\n",
    "m2 = int(input(\"Enter marks in \" + sub2))\n",
    "sub3 = input(\"Enter sub 3\")\n",
    "m3 = int(input(\"Enter marks in \" + sub3))\n",
    "subMarks.update({\n",
    "    sub1 : m1,\n",
    "    sub2 : m2,\n",
    "    sub3 : m3\n",
    "})\n",
    "print(subMarks)"
   ]
  },
  {
   "cell_type": "markdown",
   "id": "e8531daf",
   "metadata": {},
   "source": [
    "- Datatype distinction in sets"
   ]
  },
  {
   "cell_type": "code",
   "execution_count": 19,
   "id": "8e5e493b",
   "metadata": {},
   "outputs": [
    {
     "name": "stdout",
     "output_type": "stream",
     "text": [
      "{9}\n"
     ]
    }
   ],
   "source": [
    "s1 = set();\n",
    "# due to same hashing values, 9 and 9.0 are considered equal\n",
    "s1.add(int(9));\n",
    "s1.add(float(9.0))\n",
    "print(s1)"
   ]
  },
  {
   "cell_type": "markdown",
   "id": "67a429a3",
   "metadata": {},
   "source": [
    "### _Loops_"
   ]
  },
  {
   "cell_type": "markdown",
   "id": "590dcbce",
   "metadata": {},
   "source": [
    "- Print 1 to 100"
   ]
  },
  {
   "cell_type": "code",
   "execution_count": 22,
   "id": "5ba23afa",
   "metadata": {},
   "outputs": [
    {
     "name": "stdout",
     "output_type": "stream",
     "text": [
      "1\n",
      "2\n",
      "3\n",
      "4\n",
      "5\n",
      "6\n",
      "7\n",
      "8\n",
      "9\n",
      "10\n",
      "11\n",
      "12\n",
      "13\n",
      "14\n",
      "15\n",
      "16\n",
      "17\n",
      "18\n",
      "19\n",
      "20\n",
      "21\n",
      "22\n",
      "23\n",
      "24\n",
      "25\n",
      "26\n",
      "27\n",
      "28\n",
      "29\n",
      "30\n",
      "31\n",
      "32\n",
      "33\n",
      "34\n",
      "35\n",
      "36\n",
      "37\n",
      "38\n",
      "39\n",
      "40\n",
      "41\n",
      "42\n",
      "43\n",
      "44\n",
      "45\n",
      "46\n",
      "47\n",
      "48\n",
      "49\n",
      "50\n",
      "51\n",
      "52\n",
      "53\n",
      "54\n",
      "55\n",
      "56\n",
      "57\n",
      "58\n",
      "59\n",
      "60\n",
      "61\n",
      "62\n",
      "63\n",
      "64\n",
      "65\n",
      "66\n",
      "67\n",
      "68\n",
      "69\n",
      "70\n",
      "71\n",
      "72\n",
      "73\n",
      "74\n",
      "75\n",
      "76\n",
      "77\n",
      "78\n",
      "79\n",
      "80\n",
      "81\n",
      "82\n",
      "83\n",
      "84\n",
      "85\n",
      "86\n",
      "87\n",
      "88\n",
      "89\n",
      "90\n",
      "91\n",
      "92\n",
      "93\n",
      "94\n",
      "95\n",
      "96\n",
      "97\n",
      "98\n",
      "99\n",
      "100\n"
     ]
    }
   ],
   "source": [
    "count = 1\n",
    "while count < 101 :\n",
    "    print(count)\n",
    "    count += 1"
   ]
  },
  {
   "cell_type": "markdown",
   "id": "4a0cb669",
   "metadata": {},
   "source": [
    "- Print 100 to 1"
   ]
  },
  {
   "cell_type": "code",
   "execution_count": 23,
   "id": "773f525d",
   "metadata": {},
   "outputs": [
    {
     "name": "stdout",
     "output_type": "stream",
     "text": [
      "100\n",
      "99\n",
      "98\n",
      "97\n",
      "96\n",
      "95\n",
      "94\n",
      "93\n",
      "92\n",
      "91\n",
      "90\n",
      "89\n",
      "88\n",
      "87\n",
      "86\n",
      "85\n",
      "84\n",
      "83\n",
      "82\n",
      "81\n",
      "80\n",
      "79\n",
      "78\n",
      "77\n",
      "76\n",
      "75\n",
      "74\n",
      "73\n",
      "72\n",
      "71\n",
      "70\n",
      "69\n",
      "68\n",
      "67\n",
      "66\n",
      "65\n",
      "64\n",
      "63\n",
      "62\n",
      "61\n",
      "60\n",
      "59\n",
      "58\n",
      "57\n",
      "56\n",
      "55\n",
      "54\n",
      "53\n",
      "52\n",
      "51\n",
      "50\n",
      "49\n",
      "48\n",
      "47\n",
      "46\n",
      "45\n",
      "44\n",
      "43\n",
      "42\n",
      "41\n",
      "40\n",
      "39\n",
      "38\n",
      "37\n",
      "36\n",
      "35\n",
      "34\n",
      "33\n",
      "32\n",
      "31\n",
      "30\n",
      "29\n",
      "28\n",
      "27\n",
      "26\n",
      "25\n",
      "24\n",
      "23\n",
      "22\n",
      "21\n",
      "20\n",
      "19\n",
      "18\n",
      "17\n",
      "16\n",
      "15\n",
      "14\n",
      "13\n",
      "12\n",
      "11\n",
      "10\n",
      "9\n",
      "8\n",
      "7\n",
      "6\n",
      "5\n",
      "4\n",
      "3\n",
      "2\n",
      "1\n"
     ]
    }
   ],
   "source": [
    "count = 100\n",
    "while count > 0 :\n",
    "    print(count)\n",
    "    count -= 1"
   ]
  },
  {
   "cell_type": "markdown",
   "id": "3a25961f",
   "metadata": {},
   "source": [
    "- Print table of a number"
   ]
  },
  {
   "cell_type": "code",
   "execution_count": 30,
   "id": "997141c2",
   "metadata": {},
   "outputs": [
    {
     "name": "stdout",
     "output_type": "stream",
     "text": [
      "19  x  1  =  19\n",
      "19  x  2  =  38\n",
      "19  x  3  =  57\n",
      "19  x  4  =  76\n",
      "19  x  5  =  95\n",
      "19  x  6  =  114\n",
      "19  x  7  =  133\n",
      "19  x  8  =  152\n",
      "19  x  9  =  171\n",
      "19  x  10  =  190\n"
     ]
    }
   ],
   "source": [
    "num = 19\n",
    "i = 1\n",
    "while i <= 10 :\n",
    "    print(num, \" x \", i, \" = \", num*i )\n",
    "    i += 1"
   ]
  },
  {
   "cell_type": "markdown",
   "id": "276650c1",
   "metadata": {},
   "source": [
    "- Print elements of list"
   ]
  },
  {
   "cell_type": "code",
   "execution_count": 31,
   "id": "d746ecb3",
   "metadata": {},
   "outputs": [
    {
     "name": "stdout",
     "output_type": "stream",
     "text": [
      "1\n",
      "4\n",
      "9\n",
      "16\n",
      "25\n",
      "36\n",
      "49\n",
      "64\n",
      "81\n",
      "100\n"
     ]
    }
   ],
   "source": [
    "ls = [1, 4, 9, 16, 25, 36, 49, 64, 81, 100]\n",
    "i = 0\n",
    "while i < len(ls) :\n",
    "    print(ls[i])\n",
    "    i += 1"
   ]
  },
  {
   "cell_type": "markdown",
   "id": "48a76ba5",
   "metadata": {},
   "source": [
    "- linear search"
   ]
  },
  {
   "cell_type": "code",
   "execution_count": 34,
   "id": "fcb27ade",
   "metadata": {},
   "outputs": [
    {
     "name": "stdout",
     "output_type": "stream",
     "text": [
      "6\n"
     ]
    }
   ],
   "source": [
    "ls = [1, 4, 9, 16, 25, 36, 49, 64, 81, 100]\n",
    "target = 49\n",
    "i = 0\n",
    "while i < len(ls) :\n",
    "    if (ls[i] == target) :\n",
    "        print(i)\n",
    "        break\n",
    "    else :\n",
    "        i += 1"
   ]
  },
  {
   "cell_type": "markdown",
   "id": "92f3ba3b",
   "metadata": {},
   "source": [
    "- for-in loop"
   ]
  },
  {
   "cell_type": "code",
   "execution_count": 35,
   "id": "19b31f29",
   "metadata": {},
   "outputs": [
    {
     "name": "stdout",
     "output_type": "stream",
     "text": [
      "1\n",
      "4\n",
      "9\n",
      "16\n",
      "25\n",
      "36\n",
      "49\n",
      "64\n",
      "81\n",
      "100\n"
     ]
    }
   ],
   "source": [
    "tup = (1, 4, 9, 16, 25, 36, 49, 64, 81, 100)\n",
    "for num in tup :\n",
    "    print(num)"
   ]
  },
  {
   "cell_type": "markdown",
   "id": "3948b777",
   "metadata": {},
   "source": [
    "- sum of first n natural numbers"
   ]
  },
  {
   "cell_type": "code",
   "execution_count": 43,
   "id": "a27fd7f5",
   "metadata": {},
   "outputs": [
    {
     "name": "stdout",
     "output_type": "stream",
     "text": [
      "15\n"
     ]
    }
   ],
   "source": [
    "i = 1\n",
    "sum = 0\n",
    "n = 5\n",
    "while (i <= n) :\n",
    "    sum += i\n",
    "    i += 1\n",
    "print(sum)"
   ]
  },
  {
   "cell_type": "markdown",
   "id": "c048c109",
   "metadata": {},
   "source": [
    "- factorial of n"
   ]
  },
  {
   "cell_type": "code",
   "execution_count": 48,
   "id": "9363bedc",
   "metadata": {},
   "outputs": [
    {
     "name": "stdout",
     "output_type": "stream",
     "text": [
      "120\n"
     ]
    }
   ],
   "source": [
    "n = 5\n",
    "fact = 1\n",
    "for el in range(1, n+1) :\n",
    "    fact *= el\n",
    "print(fact)"
   ]
  },
  {
   "cell_type": "markdown",
   "id": "3cf18313",
   "metadata": {},
   "source": [
    "### _Functions_"
   ]
  },
  {
   "cell_type": "markdown",
   "id": "806249db",
   "metadata": {},
   "source": [
    "- function to print length of list"
   ]
  },
  {
   "cell_type": "code",
   "execution_count": 2,
   "id": "6da8d037",
   "metadata": {},
   "outputs": [
    {
     "name": "stdout",
     "output_type": "stream",
     "text": [
      "7\n",
      "3\n"
     ]
    }
   ],
   "source": [
    "cities = [\"mumbai\", \"pune\", \"chennai\", \"shillong\", \"Ahmdabad\", \"Darjaling\", \"Delhi\"]\n",
    "heroes = [\"Spider-man\", \"Krishh\", \"Iron-man\"]\n",
    "def lsLen(ls) : {\n",
    "    print(len(ls))\n",
    "}\n",
    "lsLen(cities)\n",
    "lsLen(heroes)"
   ]
  },
  {
   "cell_type": "markdown",
   "id": "8ba65dec",
   "metadata": {},
   "source": [
    "- function to print list in single line"
   ]
  },
  {
   "cell_type": "code",
   "execution_count": 4,
   "id": "af6b2c3f",
   "metadata": {},
   "outputs": [
    {
     "name": "stdout",
     "output_type": "stream",
     "text": [
      "mumbai pune chennai shillong Ahmdabad Darjaling Delhi "
     ]
    }
   ],
   "source": [
    "cities = [\"mumbai\", \"pune\", \"chennai\", \"shillong\", \"Ahmdabad\", \"Darjaling\", \"Delhi\"]\n",
    "\n",
    "def linePrint(ls):\n",
    "    for ele in ls:\n",
    "        print(ele, end=\" \")\n",
    "linePrint(cities)"
   ]
  },
  {
   "cell_type": "markdown",
   "id": "e838befd",
   "metadata": {},
   "source": [
    "- function to find n factorial"
   ]
  },
  {
   "cell_type": "code",
   "execution_count": 28,
   "id": "c53da87b",
   "metadata": {},
   "outputs": [
    {
     "name": "stdout",
     "output_type": "stream",
     "text": [
      "120\n"
     ]
    }
   ],
   "source": [
    "def factorial(n):\n",
    "    fact = 1\n",
    "    for i in range(1, n+1):\n",
    "        fact *= i\n",
    "    return fact\n",
    "\n",
    "n = 5\n",
    "print(factorial(n))"
   ]
  },
  {
   "cell_type": "markdown",
   "id": "6e6fb108",
   "metadata": {},
   "source": [
    "- odd even function"
   ]
  },
  {
   "cell_type": "code",
   "execution_count": 23,
   "id": "005a6415",
   "metadata": {},
   "outputs": [
    {
     "name": "stdout",
     "output_type": "stream",
     "text": [
      "7 is Odd\n"
     ]
    }
   ],
   "source": [
    "def oddEven(n):\n",
    "    if (n % 2 == 0):\n",
    "        return str(n) + \" is Even\"\n",
    "    else:\n",
    "        return str(n) + \" is Odd\"\n",
    "\n",
    "n = 7\n",
    "print(oddEven(n))"
   ]
  },
  {
   "cell_type": "markdown",
   "id": "cf78347b",
   "metadata": {},
   "source": [
    "### _Recursion_"
   ]
  },
  {
   "cell_type": "markdown",
   "id": "53b20fe4",
   "metadata": {},
   "source": [
    "- factorial"
   ]
  },
  {
   "cell_type": "code",
   "execution_count": 29,
   "id": "0a78766d",
   "metadata": {},
   "outputs": [
    {
     "name": "stdout",
     "output_type": "stream",
     "text": [
      "720\n"
     ]
    }
   ],
   "source": [
    "def factorial(n):\n",
    "    if (n == 0):\n",
    "        return 1\n",
    "    else:\n",
    "        return n*factorial(n-1)\n",
    "    \n",
    "n = 6\n",
    "print(factorial(n))"
   ]
  },
  {
   "cell_type": "markdown",
   "id": "24530def",
   "metadata": {},
   "source": [
    "- print a list"
   ]
  },
  {
   "cell_type": "code",
   "execution_count": 34,
   "id": "32d3e1b7",
   "metadata": {},
   "outputs": [
    {
     "data": {
      "text/plain": [
       "'mumbai pune chennai shillong Ahmdabad Darjaling Delhi None'"
      ]
     },
     "execution_count": 34,
     "metadata": {},
     "output_type": "execute_result"
    }
   ],
   "source": [
    "def printLs(ls, i):\n",
    "    if (i == len(ls)):\n",
    "        return\n",
    "    else:\n",
    "        return str(ls[i]) + \" \" + str(printLs(ls, i+1))\n",
    "\n",
    "cities = [\"mumbai\", \"pune\", \"chennai\", \"shillong\", \"Ahmdabad\", \"Darjaling\", \"Delhi\"]\n",
    "printLs(cities, 0)"
   ]
  }
 ],
 "metadata": {
  "kernelspec": {
   "display_name": "Python 3",
   "language": "python",
   "name": "python3"
  },
  "language_info": {
   "codemirror_mode": {
    "name": "ipython",
    "version": 3
   },
   "file_extension": ".py",
   "mimetype": "text/x-python",
   "name": "python",
   "nbconvert_exporter": "python",
   "pygments_lexer": "ipython3",
   "version": "3.13.1"
  }
 },
 "nbformat": 4,
 "nbformat_minor": 5
}
