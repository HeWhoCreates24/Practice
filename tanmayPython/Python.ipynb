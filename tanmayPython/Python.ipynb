{
 "cells": [
  {
   "cell_type": "markdown",
   "id": "e2781e17-0ad9-439b-abc1-3076885274ff",
   "metadata": {},
   "source": [
    "# __Python__"
   ]
  },
  {
   "cell_type": "markdown",
   "id": "69dde0d9-192f-4733-8dcc-236f9fab07ce",
   "metadata": {},
   "source": [
    "## Basics"
   ]
  },
  {
   "cell_type": "markdown",
   "id": "405fb3df-c151-4861-b970-1410b454ea23",
   "metadata": {
    "jp-MarkdownHeadingCollapsed": true
   },
   "source": [
    "### _Variables and Data-types_"
   ]
  },
  {
   "cell_type": "markdown",
   "id": "0fdf2647-c7e6-48bd-9c4a-05fe148278f3",
   "metadata": {},
   "source": [
    "- Sum of two numbers"
   ]
  },
  {
   "cell_type": "code",
   "execution_count": 1,
   "id": "ad9aeac0-ff9f-4edf-bd73-49019ea1632f",
   "metadata": {},
   "outputs": [
    {
     "name": "stdout",
     "output_type": "stream",
     "text": [
      "1 + 2 = 3\n"
     ]
    }
   ],
   "source": [
    "num1 = int(input(\"enter num 1 :\"))\n",
    "num2 = int(input(\"enter num 2 :\"))\n",
    "print(num1, \"+\", num2, \"=\", num1 + num2)"
   ]
  },
  {
   "cell_type": "markdown",
   "id": "83f1c746-7921-4b5f-857e-12e8226af6c1",
   "metadata": {},
   "source": [
    "- Area of Square"
   ]
  },
  {
   "cell_type": "code",
   "execution_count": 2,
   "id": "63d0d835-a562-43dc-acf0-f0aeafc031f5",
   "metadata": {},
   "outputs": [
    {
     "name": "stdout",
     "output_type": "stream",
     "text": [
      "Area : 9\n"
     ]
    }
   ],
   "source": [
    "num1 = int(input(\"enter side of square :\"))\n",
    "print(\"Area :\", num1**2)"
   ]
  },
  {
   "cell_type": "markdown",
   "id": "ec450d53-1f4a-4703-b960-7daf056ed100",
   "metadata": {},
   "source": [
    "- Average of two numbers"
   ]
  },
  {
   "cell_type": "code",
   "execution_count": 3,
   "id": "9fa6f064-402c-4e05-a4f6-9bdd0596aa81",
   "metadata": {},
   "outputs": [
    {
     "name": "stdout",
     "output_type": "stream",
     "text": [
      "Avg : 4.5\n"
     ]
    }
   ],
   "source": [
    "num1 = float(input(\"enter float 1\"))\n",
    "num2 = float(input(\"enter float 2\"))\n",
    "print(\"Avg :\", (num1 + num2) / 2)"
   ]
  },
  {
   "cell_type": "markdown",
   "id": "3d57c6be-8081-4ff9-a146-f883ebdff01d",
   "metadata": {},
   "source": [
    "- a >= b"
   ]
  },
  {
   "cell_type": "code",
   "execution_count": 4,
   "id": "72534afe-6c2b-47b8-bc65-5b45eb9563b8",
   "metadata": {},
   "outputs": [
    {
     "name": "stdout",
     "output_type": "stream",
     "text": [
      "False\n"
     ]
    }
   ],
   "source": [
    "num1 = int(input(\"enter a :\"))\n",
    "num2 = int(input(\"enter b :\"))\n",
    "print(num1 >= num2)"
   ]
  },
  {
   "cell_type": "markdown",
   "id": "76d39587-e95d-49ae-b88b-4b4ac1b8fc7f",
   "metadata": {
    "jp-MarkdownHeadingCollapsed": true
   },
   "source": [
    "### _Strings_"
   ]
  },
  {
   "cell_type": "markdown",
   "id": "4355b378",
   "metadata": {},
   "source": [
    "- Enter name"
   ]
  },
  {
   "cell_type": "code",
   "execution_count": 5,
   "id": "53d4705f",
   "metadata": {},
   "outputs": [
    {
     "name": "stdout",
     "output_type": "stream",
     "text": [
      "Tanmay\n"
     ]
    }
   ],
   "source": [
    "str1 = input(\"enter your name :\")\n",
    "print(str1)"
   ]
  },
  {
   "cell_type": "markdown",
   "id": "45f7a387",
   "metadata": {},
   "source": [
    "### _Conditionals_"
   ]
  },
  {
   "cell_type": "markdown",
   "id": "5b17edcc",
   "metadata": {},
   "source": [
    "- Odd or even"
   ]
  },
  {
   "cell_type": "code",
   "execution_count": 6,
   "id": "76c2f132",
   "metadata": {},
   "outputs": [
    {
     "name": "stdout",
     "output_type": "stream",
     "text": [
      "ODD\n"
     ]
    },
    {
     "data": {
      "text/plain": [
       "1"
      ]
     },
     "execution_count": 6,
     "metadata": {},
     "output_type": "execute_result"
    }
   ],
   "source": [
    "num1 = int(input(\"enter a number :\"))\n",
    "if (num1 % 2 == 0) :\n",
    "    print(\"EVEN\")\n",
    "else :\n",
    "    print(\"ODD\")\n",
    "1"
   ]
  },
  {
   "cell_type": "markdown",
   "id": "075ef589",
   "metadata": {},
   "source": [
    "- Greatest of three"
   ]
  },
  {
   "cell_type": "code",
   "execution_count": 7,
   "id": "474e6c15",
   "metadata": {},
   "outputs": [
    {
     "name": "stdout",
     "output_type": "stream",
     "text": [
      "31351\n"
     ]
    }
   ],
   "source": [
    "num1 = int(input(\"Enter num 1 :\"))\n",
    "num2 = int(input(\"Enter num 2 :\"))\n",
    "num3 = int(input(\"Enter num 3 :\"))\n",
    "if (num1 > num2):\n",
    "    if (num1 > num3):\n",
    "        print(num1)\n",
    "    else:\n",
    "        print(num3)\n",
    "else:\n",
    "    if (num2 > num3):\n",
    "        print(num2)\n",
    "    else:\n",
    "        print(num3)"
   ]
  },
  {
   "cell_type": "markdown",
   "id": "a2b3b686",
   "metadata": {},
   "source": [
    "- Divisible by 7"
   ]
  },
  {
   "cell_type": "code",
   "execution_count": 8,
   "id": "c115ef86",
   "metadata": {},
   "outputs": [
    {
     "name": "stdout",
     "output_type": "stream",
     "text": [
      "NO\n"
     ]
    }
   ],
   "source": [
    "num1 = int(input(\"Enter a num :\"))\n",
    "if (num1 % 7 == 0):\n",
    "    print(\"YES\")\n",
    "else:\n",
    "    print(\"NO\")"
   ]
  },
  {
   "cell_type": "markdown",
   "id": "cf8551a8",
   "metadata": {},
   "source": [
    "### _Lists & Tuples_"
   ]
  },
  {
   "cell_type": "markdown",
   "id": "c42d9153",
   "metadata": {},
   "source": [
    "- Lists"
   ]
  },
  {
   "cell_type": "code",
   "execution_count": 9,
   "id": "25065739",
   "metadata": {},
   "outputs": [
    {
     "name": "stdout",
     "output_type": "stream",
     "text": [
      "<class 'list'>\n"
     ]
    }
   ],
   "source": [
    "l1 = []\n",
    "l1 += input(\"Enter a list\")\n",
    "print(list)"
   ]
  },
  {
   "cell_type": "markdown",
   "id": "56b1ad13",
   "metadata": {},
   "source": [
    "- List Slicing"
   ]
  },
  {
   "cell_type": "code",
   "execution_count": 10,
   "id": "c82e86d5",
   "metadata": {},
   "outputs": [
    {
     "name": "stdout",
     "output_type": "stream",
     "text": [
      "['1', '5', '6', '3', '5', '1']\n"
     ]
    }
   ],
   "source": [
    "l2 = l1[0 : 6]\n",
    "print(l2)"
   ]
  },
  {
   "cell_type": "markdown",
   "id": "02dd4b4d",
   "metadata": {},
   "source": [
    "- Tuples"
   ]
  },
  {
   "cell_type": "code",
   "execution_count": 11,
   "id": "fcb46713",
   "metadata": {},
   "outputs": [
    {
     "name": "stdout",
     "output_type": "stream",
     "text": [
      "<class 'tuple'> (351351,)\n"
     ]
    }
   ],
   "source": [
    "t1 = (int(input(\"enter a num\")),)\n",
    "print(type(t1), (t1) )"
   ]
  },
  {
   "cell_type": "markdown",
   "id": "42fb0fee",
   "metadata": {},
   "source": [
    "- Input in tuple"
   ]
  },
  {
   "cell_type": "code",
   "execution_count": 16,
   "id": "921bbb00",
   "metadata": {},
   "outputs": [
    {
     "name": "stdout",
     "output_type": "stream",
     "text": [
      "['Intersteller', 'RRR', 'Tenet']\n"
     ]
    }
   ],
   "source": [
    "favMovies = []\n",
    "favMovies.append(input(\"Enter movie 1\"))\n",
    "favMovies.append(input(\"Enter movie 2\"))\n",
    "favMovies.append(input(\"Enter movie 3\"))\n",
    "print(favMovies)"
   ]
  },
  {
   "cell_type": "markdown",
   "id": "f94fbfb0",
   "metadata": {},
   "source": [
    "- Palindrome or not"
   ]
  },
  {
   "cell_type": "code",
   "execution_count": 13,
   "id": "3e0e51b3",
   "metadata": {},
   "outputs": [
    {
     "name": "stdout",
     "output_type": "stream",
     "text": [
      "Is NOT Palindrome\n"
     ]
    }
   ],
   "source": [
    "l1 = []\n",
    "l1 += input(\"enter a list\")\n",
    "rev = l1.copy()\n",
    "rev.reverse()\n",
    "if(l1 == rev):\n",
    "    print(\"Is Palindrome\")\n",
    "else:\n",
    "    print(\"Is NOT Palindrome\")"
   ]
  },
  {
   "cell_type": "markdown",
   "id": "cb92fefc",
   "metadata": {},
   "source": [
    "- Count method"
   ]
  },
  {
   "cell_type": "code",
   "execution_count": 14,
   "id": "64a5a8a5",
   "metadata": {},
   "outputs": [
    {
     "name": "stdout",
     "output_type": "stream",
     "text": [
      "3\n"
     ]
    }
   ],
   "source": [
    "t1 = ('C', 'D', 'A', 'A', 'B', 'B', 'A')\n",
    "print(t1.count('A'))"
   ]
  },
  {
   "cell_type": "markdown",
   "id": "c4e892bf",
   "metadata": {},
   "source": [
    "- Sorting"
   ]
  },
  {
   "cell_type": "code",
   "execution_count": 15,
   "id": "1f50459b",
   "metadata": {},
   "outputs": [
    {
     "name": "stdout",
     "output_type": "stream",
     "text": [
      "['A', 'A', 'A', 'B', 'B', 'C', 'D']\n"
     ]
    }
   ],
   "source": [
    "l1 = list(t1)\n",
    "l1.sort()\n",
    "print(l1)"
   ]
  },
  {
   "cell_type": "markdown",
   "id": "18967466",
   "metadata": {},
   "source": [
    "### _Dictionaries & Sets_"
   ]
  },
  {
   "cell_type": "markdown",
   "id": "fc30be6f",
   "metadata": {},
   "source": [
    "- Dictionary eg."
   ]
  },
  {
   "cell_type": "code",
   "execution_count": 8,
   "id": "919eb6bf",
   "metadata": {},
   "outputs": [
    {
     "name": "stdout",
     "output_type": "stream",
     "text": [
      "{'table': ['a piece of furniture', 'list of facts and figures'], 'cat': 'a small animal'}\n",
      "[('table', ['a piece of furniture', 'list of facts and figures']), ('cat', 'a small animal')]\n"
     ]
    }
   ],
   "source": [
    "dict = {}\n",
    "dict.update({\n",
    "    \"table\" : [\"a piece of furniture\", \"list of facts and figures\"],\n",
    "    \"cat\" : \"a small animal\"\n",
    "})\n",
    "print(dict)\n",
    "print(list(dict.items()))"
   ]
  },
  {
   "cell_type": "markdown",
   "id": "1584843e",
   "metadata": {},
   "source": [
    "- Sets eg."
   ]
  },
  {
   "cell_type": "code",
   "execution_count": 22,
   "id": "87d39464",
   "metadata": {},
   "outputs": [
    {
     "name": "stdout",
     "output_type": "stream",
     "text": [
      "5\n"
     ]
    }
   ],
   "source": [
    "classes = {\"python\", \"java\", \"c++\", \"python\", \"javascript\", \"java\", \"python\", \"java\", \"c++\", \"c\"}\n",
    "print(len(classes))"
   ]
  },
  {
   "cell_type": "markdown",
   "id": "89efcc1c",
   "metadata": {},
   "source": [
    "- User input in dictionaries"
   ]
  },
  {
   "cell_type": "code",
   "execution_count": 23,
   "id": "752d6cc9",
   "metadata": {},
   "outputs": [
    {
     "name": "stdout",
     "output_type": "stream",
     "text": [
      "{'physics': 84, 'chemistry': 77, 'maths': 91}\n"
     ]
    }
   ],
   "source": [
    "subMarks = {}\n",
    "sub1 = input(\"Enter sub 1\")\n",
    "m1 = int(input(\"Enter marks in \" + sub1))\n",
    "sub2 = input(\"Enter sub 2\")\n",
    "m2 = int(input(\"Enter marks in \" + sub2))\n",
    "sub3 = input(\"Enter sub 3\")\n",
    "m3 = int(input(\"Enter marks in \" + sub3))\n",
    "subMarks.update({\n",
    "    sub1 : m1,\n",
    "    sub2 : m2,\n",
    "    sub3 : m3\n",
    "})\n",
    "print(subMarks)"
   ]
  },
  {
   "cell_type": "markdown",
   "id": "e8531daf",
   "metadata": {},
   "source": [
    "- Datatype distinction in sets"
   ]
  },
  {
   "cell_type": "code",
   "execution_count": null,
   "id": "8e5e493b",
   "metadata": {},
   "outputs": [
    {
     "name": "stdout",
     "output_type": "stream",
     "text": [
      "{9}\n"
     ]
    }
   ],
   "source": [
    "s1 = set();\n",
    "# due to same hashing values, 9 and 9.0 are considered equal\n",
    "s1.add(int(9));\n",
    "s1.add(float(9.0))\n",
    "print(s1)"
   ]
  }
 ],
 "metadata": {
  "kernelspec": {
   "display_name": "Python 3",
   "language": "python",
   "name": "python3"
  },
  "language_info": {
   "codemirror_mode": {
    "name": "ipython",
    "version": 3
   },
   "file_extension": ".py",
   "mimetype": "text/x-python",
   "name": "python",
   "nbconvert_exporter": "python",
   "pygments_lexer": "ipython3",
   "version": "3.13.1"
  }
 },
 "nbformat": 4,
 "nbformat_minor": 5
}
